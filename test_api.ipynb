{
 "cells": [
  {
   "cell_type": "code",
   "execution_count": 1,
   "id": "fb078fa5",
   "metadata": {},
   "outputs": [
    {
     "name": "stdout",
     "output_type": "stream",
     "text": [
      "{\"status\":\"success\",\"message\":\"Successfully ingested 879 docs from 1 file(s)\"}\n"
     ]
    }
   ],
   "source": [
    "import requests\n",
    "import json\n",
    "\n",
    "url = \"http://0.0.0.0:4050/ingest-files\"\n",
    "\n",
    "payload = json.dumps({\n",
    "  \"bucket_name\": \"ibmz\",\n",
    "  \"collection_name\": \"ibmz_collection\",\n",
    "  \"chunk_type\": \"DOCLING_DOCS\"\n",
    "})\n",
    "headers = {\n",
    "  'REST_API_KEY': 'secret',\n",
    "  'Content-Type': 'application/json'\n",
    "}\n",
    "\n",
    "response = requests.request(\"POST\", url, headers=headers, data=payload)\n",
    "\n",
    "print(response.text)\n"
   ]
  },
  {
   "cell_type": "code",
   "execution_count": 2,
   "id": "0229fa11",
   "metadata": {},
   "outputs": [
    {
     "name": "stdout",
     "output_type": "stream",
     "text": [
      "{\"data\":{\"answer\":\"To upgrade memory, you can follow these steps:\\n\\n1. Order and enable memory upgrades through Licensed Internal Code Configuration Control (LICCC), which can upgrade the DIMM cards, add DIMM cards, or add a CPC drawer.\\n2. Use the Enhanced Drawer Availability (EDA) feature to remove a processor drawer and add DIMM memory cards, or upgrade the installed memory cards to a larger capacity size, and then use LICCC to enable the extra memory.\\n3. Add a second processor drawer with sufficient memory into the configuration and then use LICCC to enable that memory.\\n4. Define reserved storage to an LPAR as part of the image profile, allowing the LPAR to dynamically take advantage of a memory upgrade.\\n5. Use the LPAR dynamic storage reconfiguration (DSR) function to configure reserved memory online to the LPAR.\\n6. Plan the initial configuration to allow for concurrent upgrades to a target configuration, taking into account the availability of PCIe+ I/O drawers and the flexible memory option.\\n7. Consider using the Flexible Memory Feature to allow for better control over future memory upgrades.\\n8. For model upgrades, add a CPC drawer and physical memory to the added drawer, which can be a concurrent operation, and enable the added memory for use by an active LPAR or a defined LPAR that is activated after the memory is added.\",\"context\":\"2.5.4  Memory upgrades\\nMemory upgrades can be ordered and enabled by LIC, upgrading the DIMM cards, adding DIMM cards, or adding a CPC drawer.\\nFor a model upgrade that results in the addition of a CPC drawer, the minimum memory increment is added to the system. Each CPC drawer has a minimum physical memory size of 1024 GB.\\n\\n8.4.2  MES upgrades for memory\\nMES upgrades for memory can concurrently add memory in the following ways:\\n/SM590000 Through LICCC, which enables more capacity up to the limit of the installed DIMM memory cards.\\n/SM590000 Concurrently installing CPC drawers and LICCC-enabling memory capacity on the new CPC drawers.\\nThe Flexible Memory Feature is available to allow better control over future memory upgrades. For more information about flexible memory features, see 2.5.7, 'Flexible Memory Option' on page 53.\\nIf the IBM z17 is a multiple processor drawer configuration, you can use the EDA feature to remove a processor drawer and add DIMM memory cards. It also can be used to upgrade the installed memory cards to a larger capacity size. You can then use LICCC to enable the extra memory.\\nWith suitable planning, memory can be added non disruptively to z/OS partitions and z/VM partitions. If necessary, new LPARs can be created non disruptively to use the newly added memory.\\nConcurrency: Upgrades that require DIMM changes can be concurrent by using the EDA feature. Planning is required to see whether this option is a viable for your configuration. The use of the flexible memory option ensures that EDA can work with the least disruption.\\nThe one-processor drawer feature Max43 requires a minimum of 1024 GB addressable memory. The client addressable storage in this case is 340 GB. Memory can be upgraded up to 16 TB of memory. An upgrade changes the DIMM sizes and adding DIMMs in all available slots in the processor drawer. Total available memory for customer use is the result of total installed memory minus 884 GB allocated to HSA.\\nYou also can add memory by concurrently adding a second processor drawer with sufficient memory into the configuration and then, using LICCC to enable that memory. Changing DIMMs in a single CPC drawer system is disruptive.\\nAn LPAR can dynamically take advantage of a memory upgrade if reserved storage is defined to that LPAR. The reserved storage is defined to the LPAR as part of the image profile.\\nReserved memory can be configured online to the LPAR by using the LPAR dynamic storage reconfiguration (DSR) function. DSR allows a z/OS operating system image and z/VM partitions to add reserved storage to their configuration if any unused storage exists.\\nThe nondisruptive addition of storage to a z/OS and z/VM partition requires the correct operating system parameters to be set. If reserved storage is not defined to the LPAR, the LPAR must be deactivated, the image profile changed, and the LPAR reactivated. This process allows the extra storage resources to be available to the operating system image.\\n\\n3.6.1  Overview\\nThe IBM z17 ME1 memory design provides flexibility, high availability, and the following capabilities:\\n/SM590000\\nIBM z17 servers can have more physically installed memory than the initial available capacity. Memory upgrades within the physically installed capacity can be done cannot be done through CBU or On/Off CoD.\\nConcurrent memory upgrades if the physically installed capacity is not yet reached concurrently by LIC, and no hardware changes are required. However, memory upgrades\\n/SM590000 Concurrent memory upgrades if the physically installed capacity is reached\\nPhysical memory upgrades require a processor drawer to be removed and reinstalled after replacing the memory cards in the processor drawer. Except for the feature Max43, the combination of enhanced drawer availability and the flexible memory option allows you to concurrently add memory to the system. For more information, see 2.5.5, 'Drawer replacement and memory' on page 52, and 2.5.7, 'Flexible Memory Option' on page 53.\\nWhen the total capacity that is installed has more usable memory than required for a configuration, the Licensed Internal Code Configuration Control (LICCC) determines how much memory is used from each processor drawer. The sum of the LICCC provided memory from each CPC drawer is the amount that is available for use in the system.\\n\\n8.4  Miscellaneous equipment specification upgrades\\nMES upgrades enable concurrent and permanent capacity growth. MES upgrades allow the concurrent adding of processors (CPs, ICFs, zIIPs, and IFLs), memory capacity, and I/O ports. For sub-capacity models, MES upgrades allow the concurrent adjustment of the number of processors and the capacity level.\\nThe MES upgrade can be performed by using LICCC only, installing more processor drawers, adding PCIe+ I/O drawers, adding I/O 3  features, or using the following combinations:\\n/SM590000 MES upgrades for processors are done by any of the following methods:\\n-LICCC assigning and activating unassigned PUs up to the limit of the installed processor drawers.\\n-LICCC to adjust the number and types of PUs to change the capacity setting, or both.\\n-Installing more processor drawers and LICCC assigning and activating unassigned PUs on the installed processor drawers.\\n/SM590000 MES upgrades for memory are done by one of the following methods:\\n-By using LICCC to activate more memory capacity up to the limit of the memory cards on the currently installed processor drawers. Flexible memory features enable you to implement better control over future memory upgrades. For more information about the memory features, see 2.5.7, 'Flexible Memory Option' on page 53.\\n-Installing more processor drawers and the use of LICCC to activate more memory capacity on installed processor drawers.\\n-By using the CPC Enhanced Drawer Availability (EDA), where possible, on multi-drawer systems to add or change the memory cards.\\n3 Other adapter types, such as zHyperlink, Coupling Express LR, and Remote Direct Memory Access (RDMA) over Converged Ethernet (RoCE), also can be added to the PCIe+ I/O drawers through an MES.\\n- /SM590000 MES upgrades for I/O are done by installing I/O features and supporting infrastructure (if required) on PCIe drawers that are installed, or installing PCIe drawers to hold the new cards.\\nAn MES upgrade requires IBM SSRs for the installation. In most cases, the time that is required for installing the LICCC and completing the upgrade is short, depending on how up to date the machine microcode levels are.\\nTo better use the MES upgrade function, carefully plan the initial configuration to allow a concurrent upgrade to a target configuration. The availability of PCIe+ I/O drawers improves the flexibility to perform unplanned I/O configuration changes concurrently.\\nThe Store System Information (STSI) instruction gives more useful and detailed information about the base configuration and temporary upgrades.\\nThe model and model capacity identifiers that are returned by the STSI instruction are updated to coincide with the upgrade. For more information, see 'Store System Information instruction' on page 396.\\nUpgrades: An MES provides the physical upgrade, which results in more enabled processors, different capacity settings for the CPs, and more memory, I/O ports, I/O adapters, and I/O drawers. Extra planning tasks are required for nondisruptive logical upgrades. For more information, see 'Guidelines to avoid disruptive upgrades' on page 398.\\n\\nMemory\\nMemory can be added concurrently up to the physical installed memory limit. More processor drawers can be installed concurrently, which allows further memory upgrades by LICCC, and enables memory capacity on the new processor drawers.\\nBy using the previously defined reserved memory, z/OS operating system images, and z/VM partitions, you can dynamically configure more memory online. This process allows nondisruptive memory upgrades. Linux on Z supports Dynamic Storage Reconfiguration.\\n\\nLICCC upgrades (MES ordered)\\nThe LICCC provides for system upgrades without hardware changes by activating extra (physically installed) unused capacity. Concurrent upgrades through LICCC can be performed for the following resources:\\n/SM590000 Processors, such as CPs, ICFs, z Integrated Information Processors (zIIPs), IFLs, and SAPs, if unused PUs are available on the installed processor drawers, or if the model capacity identifier for the CPs can be increased.\\n/SM590000 Memory, when unused capacity is available on the installed memory cards. The Flexible memory option is available to give you better control over future memory upgrades. For more information, see 2.5.7, 'Flexible Memory Option' on page 53.\\n\\nPermanent upgrades that are ordered through an IBM representative\\nThrough a permanent upgrade, you can accomplish the following tasks:\\n/SM590000 Add:\\n-Processor drawers\\n-Peripheral Component Interconnect Express (PCIe) drawers and features\\n-Model capacity\\n-Specialty engines\\n-Memory\\n-I/O channels\\n-Crypto Express cards\\n/SM590000 Activate unassigned model capacity or IFLs, ICFs, or zIIPs\\n/SM590000 Deactivate activated model capacity or IFLs, ICFs, or zIIPs\\n/SM590000 Change specialty engines (recharacterization)\\nConsiderations: Most of the MESs can be concurrently applied without disrupting the workload. For more information, see 8.3, 'Concurrent upgrades' on page 360. However, specific MES changes might be disruptive, such as adding PCIe IO drawers.\\nMemory upgrades that require dual inline memory module (DIMM) changes can be made non disruptively if multiple CPC drawers are available and the flexible memory option is used.\\n\\nMemory allowed upgrades for Max208 models\\nOnce a model Max208 is shipped, then the memory upgrades via MES are limited dependent on what configuration exists in the installed CPC drawers.\\n/SM590000 If a CPC drawer is plugged with CFG numbers 22 to 38 (see Table 2-11 on page 47) then the max memory configuration for that CPC drawer is 38\\n/SM590000 If a CPC drawer is plugged with CFG number 39, then the max memory configuration for that CPC drawer is 39\\n/SM590000 If a CPC drawer is plugged with CFG number 46, then it's maxed out anyway\\n\\nDynamic LPAR memory upgrade\\nAn LPAR can be defined with an initial and a reserved amount of memory. At activation time, the initial amount is made available to the partition and the reserved amount can be added later, partially or totally. Although these two memory zones do not have to be contiguous in real memory, they appear as logically contiguous to the operating system that runs in the LPAR.\\nz/OS can take advantage of this support and nondisruptively acquire and release memory from the reserved area. z/VM V7R1 and later can acquire memory nondisruptively and immediately make it available to guests.\\nz/VM virtualizes this support to its guests, which now also can increase their memory nondisruptively if supported by the guest operating system. Currently, releasing memory from z/VM is supported on z/VM V7.2 with PTFs 8 . Releasing memory from the z/VM guest depends on the guest's operating system support.\\nLinux on IBM Z also supports acquiring and releasing memory nondisruptively. This feature is enabled for SUSE Linux Enterprise Server 12 and RHEL 7.9 and later releases.\\n\\nModel Upgrades\\nDuring a model upgrade, adding a CPC drawer is a concurrent operation 7 . Adding physical memory to the added drawer is also concurrent. If all or part of the added memory is enabled for use, it might become available to an active LPAR if the partition includes defined reserved storage. (For more information, see 3.7.3, 'Reserved storage' on page 130.) Alternatively, the added memory can be used by a defined LPAR that is activated after the memory is added.\\nNote: Memory downgrades within an IBM z17 are not supported. Feature downgrades (removal of a CPC quantity feature) are not supported.\"},\"status\":\"success\",\"message\":\"Successfully queried Milvus.\"}\n"
     ]
    }
   ],
   "source": [
    "import requests\n",
    "import json\n",
    "\n",
    "url = \"https://milvus-rag-api.1ut9n16vpnrd.us-south.codeengine.appdomain.cloud/query\"\n",
    "\n",
    "payload = json.dumps({\n",
    "  \"query\": \"how do i upgrade memory?\",\n",
    "  \"collection_name\": \"ibmz_collection\",\n",
    "})\n",
    "headers = {\n",
    "  'REST_API_KEY': 'secret',\n",
    "  'Content-Type': 'application/json'\n",
    "}\n",
    "\n",
    "response = requests.request(\"POST\", url, headers=headers, data=payload)\n",
    "\n",
    "print(response.text)"
   ]
  },
  {
   "cell_type": "code",
   "execution_count": 3,
   "id": "280c0c00",
   "metadata": {},
   "outputs": [
    {
     "name": "stdout",
     "output_type": "stream",
     "text": [
      "To upgrade memory, you can follow these steps:\n",
      "\n",
      "1. Order and enable memory upgrades through Licensed Internal Code Configuration Control (LICCC), which can upgrade the DIMM cards, add DIMM cards, or add a CPC drawer.\n",
      "2. Use the Enhanced Drawer Availability (EDA) feature to remove a processor drawer and add DIMM memory cards, or upgrade the installed memory cards to a larger capacity size, and then use LICCC to enable the extra memory.\n",
      "3. Add a second processor drawer with sufficient memory into the configuration and then use LICCC to enable that memory.\n",
      "4. Define reserved storage to an LPAR as part of the image profile, allowing the LPAR to dynamically take advantage of a memory upgrade.\n",
      "5. Use the LPAR dynamic storage reconfiguration (DSR) function to configure reserved memory online to the LPAR.\n",
      "6. Plan the initial configuration to allow for concurrent upgrades to a target configuration, taking into account the availability of PCIe+ I/O drawers and the flexible memory option.\n",
      "7. Consider using the Flexible Memory Feature to allow for better control over future memory upgrades.\n",
      "8. For model upgrades, add a CPC drawer and physical memory to the added drawer, which can be a concurrent operation, and enable the added memory for use by an active LPAR or a defined LPAR that is activated after the memory is added.\n"
     ]
    }
   ],
   "source": [
    "answer = json.loads(response.text)['data']['answer']\n",
    "print(answer)"
   ]
  },
  {
   "cell_type": "code",
   "execution_count": 1,
   "id": "b49f874b",
   "metadata": {},
   "outputs": [
    {
     "name": "stdout",
     "output_type": "stream",
     "text": [
      "{\"data\":{\"llm_response\":\"\\n\\nTo get access to the IBM Partner Portal, you need to be classified as an 'Opportunity Management Focal' role. If you need to change a person's access to the tool, a Partner Administrator (PA) from your company will need to follow these steps: enter the IBM Partner Portal, select 'Company management' and then 'Company profile', and then edit or add new roles in the employee list. If you have questions or need help, you can contact the Partner Support Desk. Additionally, individual users must be granted access by their Partner Administrator to access certain features like the incentives dashboard.\"},\"status\":\"success\",\"message\":\"Successfully queried Milvus.\"}\n"
     ]
    }
   ],
   "source": [
    "import requests\n",
    "import json\n",
    "\n",
    "url = \"http://0.0.0.0:3001/query\"\n",
    "\n",
    "payload = json.dumps({\n",
    "  \"query\": \"how do i get access?\",\n",
    "  \"collection_name\": \"askbuild_collection\"\n",
    "})\n",
    "headers = {\n",
    "  'REST_API_KEY': 'secret',\n",
    "  'Content-Type': 'application/json'\n",
    "}\n",
    "\n",
    "response = requests.request(\"POST\", url, headers=headers, data=payload)\n",
    "\n",
    "print(response.text)\n"
   ]
  },
  {
   "cell_type": "code",
   "execution_count": 4,
   "id": "83fb6bd1",
   "metadata": {},
   "outputs": [
    {
     "name": "stdout",
     "output_type": "stream",
     "text": [
      "\n",
      "\n",
      "To get access to the IBM Partner Portal, you need to be classified as an 'Opportunity Management Focal' role. If you need to change a person's access to the tool, a Partner Administrator (PA) from your company will need to follow these steps: enter the IBM Partner Portal, select 'Company management' and then 'Company profile', and then edit or add new roles in the employee list. If you have questions or need help, you can contact the Partner Support Desk. Additionally, individual users must be granted access by their Partner Administrator to access certain features like the incentives dashboard.\n"
     ]
    }
   ],
   "source": [
    "answer = json.loads(response.text)['data']['llm_response']\n",
    "print(answer)"
   ]
  }
 ],
 "metadata": {
  "kernelspec": {
   "display_name": "virtual-env",
   "language": "python",
   "name": "python3"
  },
  "language_info": {
   "codemirror_mode": {
    "name": "ipython",
    "version": 3
   },
   "file_extension": ".py",
   "mimetype": "text/x-python",
   "name": "python",
   "nbconvert_exporter": "python",
   "pygments_lexer": "ipython3",
   "version": "3.11.9"
  }
 },
 "nbformat": 4,
 "nbformat_minor": 5
}
